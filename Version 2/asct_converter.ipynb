{
 "cells": [
  {
   "cell_type": "markdown",
   "id": "absent-illustration",
   "metadata": {},
   "source": [
    "## Harmonize ETL: HuBMAP\n",
    "\n",
    "Data Source: https://hubmapconsortium.github.io/ccf-asct-reporter/vis?selectedOrgans=All_Organs-v1.1,Blood-v1.1,Blood_Vasculature-v1.1,bone_marrow-v1.1,brain-v1.1,Eye-v1.0,Fallopian_Tube-v1.1,heart-v1.1,kidney-v1.1,Knee-v1.0,large_intestine-v1.1,Liver-v1.0,lung-v1.1,lymph_nodes-v1.1,Lymph_Vasculature-v1.0,Ovary-v1.0,Pancreas-v1.0,Peripheral_Nervous_System-v1.0,Prostate-v1.0,skin-v1.1,Small_Intestine-v1.0,spleen-v1.1,thymus-v1.1,Ureter-v1.0,Urinary_Bladder-v1.0,Uterus-v1.0&playground=false"
   ]
  },
  {
   "cell_type": "code",
   "execution_count": 1,
   "id": "authentic-blast",
   "metadata": {},
   "outputs": [],
   "source": [
    "import re\n",
    "import sys\n",
    "import pprint \n",
    "from datetime import date"
   ]
  },
  {
   "cell_type": "markdown",
   "id": "mature-democracy",
   "metadata": {},
   "source": [
    "### Notebook Information"
   ]
  },
  {
   "cell_type": "code",
   "execution_count": 2,
   "id": "binding-neighbor",
   "metadata": {},
   "outputs": [
    {
     "name": "stdout",
     "output_type": "stream",
     "text": [
      "This notebook was run on: 2022-03-21 \n",
      " Python version: 3.9.1 (default, Feb  3 2021, 07:38:02) \n",
      "[Clang 12.0.0 (clang-1200.0.32.29)]\n"
     ]
    }
   ],
   "source": [
    "print('This notebook was run on:', date.today(), '\\n Python version:', sys.version)"
   ]
  },
  {
   "cell_type": "markdown",
   "id": "adaptive-rings",
   "metadata": {},
   "source": [
    "# Initialization\n",
    "Input files should be named organ_name.tsv"
   ]
  },
  {
   "cell_type": "code",
   "execution_count": 3,
   "id": "aware-butterfly",
   "metadata": {},
   "outputs": [],
   "source": [
    "# Enter input file name\n",
    "file_name = \"Skin.tsv\""
   ]
  },
  {
   "cell_type": "code",
   "execution_count": 4,
   "id": "proud-heavy",
   "metadata": {},
   "outputs": [],
   "source": [
    "read_file = open(file_name, \"r\")"
   ]
  },
  {
   "cell_type": "markdown",
   "id": "norman-wholesale",
   "metadata": {},
   "source": [
    "### Create a dictionary where the keys are columns (CT/BGene) and values are rows"
   ]
  },
  {
   "cell_type": "code",
   "execution_count": 5,
   "id": "molecular-scholar",
   "metadata": {},
   "outputs": [],
   "source": [
    "# Create dictionary where keys are columns and values are rows\n",
    "\n",
    "def tsv_to_columns_row_dictionary(read_file):\n",
    "    excel_dict = dict()\n",
    "    key_list = list()\n",
    "    for count, row in enumerate(read_file):\n",
    "        temp = re.split(r'\\t', row.strip(\"\\n\"))\n",
    "        if count == 8:\n",
    "            version = temp[1]\n",
    "        if count == 10:\n",
    "            for value in temp:\n",
    "                excel_dict[value] = list()\n",
    "                key_list.append(value)       \n",
    "        if count > 10:\n",
    "            for count, value in enumerate(temp):\n",
    "                excel_dict[key_list[count]].append(value)\n",
    "    return(excel_dict, key_list, version)\n"
   ]
  },
  {
   "cell_type": "markdown",
   "id": "formal-processor",
   "metadata": {},
   "source": [
    "## Output of column/row dictionary"
   ]
  },
  {
   "cell_type": "code",
   "execution_count": 6,
   "id": "prescription-anaheim",
   "metadata": {},
   "outputs": [],
   "source": [
    "excel_dict, key_list, version = tsv_to_columns_row_dictionary(read_file)"
   ]
  },
  {
   "cell_type": "markdown",
   "id": "grave-router",
   "metadata": {},
   "source": [
    "### Create a list of cell types. Cell types are listed at the highest resolution base on ASCT+B Table"
   ]
  },
  {
   "cell_type": "code",
   "execution_count": 7,
   "id": "fitted-karen",
   "metadata": {},
   "outputs": [],
   "source": [
    "# Key_list is a list of column name. Ex. CT/2... \n",
    "# Add cell type to dictionary as key\n",
    "def add_cell_type_to_list(excel_dict, key_list):\n",
    "    cell_type_list = list()\n",
    "    as_name = excel_dict[\"AS/1\"][0]\n",
    "    for index in range(0, len(excel_dict[\"AS/1\"])):\n",
    "        cell_type_list.append(list())\n",
    "    \n",
    "    for index in range(0, len(excel_dict[\"AS/1\"])):\n",
    "        for label in key_list:\n",
    "            if \"CT\" in label and \"LABEL\" not in label and \"ID\" not in label and \"NOTES\" not in label and \"Reference\" not in label and \"DOI\" not in label:\n",
    "                if excel_dict[label][index]:\n",
    "                    cell_type_list[index] = (excel_dict[label][index])\n",
    "    \n",
    "    # Add unique identifier\n",
    "    #final_cell_type_list = list()\n",
    "    #for count, cell_type in enumerate(cell_type_list):\n",
    "    #    final_cell_type = \"{} ({})\".format(cell_type, count)\n",
    "    #    final_cell_type_list.append(final_cell_type)\n",
    "    \n",
    "    # Dont add unique identifier\n",
    "    final_cell_type_list = list()\n",
    "    for cell_type in cell_type_list:\n",
    "        final_cell_type_list.append(cell_type)\n",
    "    \n",
    "    \n",
    "    return(as_name, final_cell_type_list)"
   ]
  },
  {
   "cell_type": "markdown",
   "id": "intelligent-disclaimer",
   "metadata": {},
   "source": [
    "### Cell Types List"
   ]
  },
  {
   "cell_type": "code",
   "execution_count": 8,
   "id": "soviet-tamil",
   "metadata": {},
   "outputs": [],
   "source": [
    "as_name, cell_type_list = add_cell_type_to_list(excel_dict, key_list)\n",
    "#pprint.pprint(cell_type_list)"
   ]
  },
  {
   "cell_type": "markdown",
   "id": "outstanding-panel",
   "metadata": {},
   "source": [
    "### Create a dictionary where the cell type is the key and the value are the biomarkers"
   ]
  },
  {
   "cell_type": "code",
   "execution_count": 9,
   "id": "quick-fellowship",
   "metadata": {},
   "outputs": [],
   "source": [
    "def add_gene_marker(cell_type_list, excel_dict):\n",
    "    cell_type_gene_marker_dict = dict()\n",
    "    \n",
    "    for count, cell_type in enumerate(cell_type_list):\n",
    "        if cell_type:\n",
    "            if cell_type in cell_type_gene_marker_dict:   \n",
    "                cell_type_gene_marker_dict[cell_type].update(excel_dict[\"All Gene Biomarkers\"][count].split(\", \"))            \n",
    "            else:\n",
    "                cell_type_gene_marker_dict[cell_type] = set(excel_dict[\"All Gene Biomarkers\"][count].split(\", \"))\n",
    "    \n",
    "    return(cell_type_gene_marker_dict)\n",
    "\n",
    "\n",
    "def add_gene_marker_no_all(cell_type_list, excel_dict):\n",
    "    gene_list = list()\n",
    "    for index in range(0, len(excel_dict[\"AS/1\"])):\n",
    "        gene_list.append(list())\n",
    "    \n",
    "    for index in range(0, len(excel_dict[\"AS/1\"])):\n",
    "        for label in key_list:\n",
    "            if \"BGene\" in label and \"LABEL\" not in label and \"ID\" not in label and \"Reference\" not in label and \"DOI\" not in label:\n",
    "                if excel_dict[label][index]:\n",
    "                    if gene_list[index]:                       \n",
    "                        gene_list[index].append(excel_dict[label][index])\n",
    "                    else:\n",
    "                        gene_list[index] = list()\n",
    "                        gene_list[index].append(excel_dict[label][index])\n",
    "            if \"BProtein\" in label and \"LABEL\" not in label and \"ID\" not in label and \"Reference\" not in label and \"DOI\" not in label:\n",
    "               if excel_dict[label][index]:\n",
    "                    if gene_list[index]:                       \n",
    "                        gene_list[index].append(excel_dict[label][index])\n",
    "                    else:\n",
    "                        gene_list[index] = list()\n",
    "                        gene_list[index].append(excel_dict[label][index])\n",
    "                    \n",
    "    cell_type_gene_marker_dict = dict()\n",
    "    \n",
    "    for count, cell_type in enumerate(cell_type_list):\n",
    "        if cell_type:\n",
    "            if cell_type not in cell_type_gene_marker_dict.keys():\n",
    "                cell_type_gene_marker_dict[cell_type] = set(gene_list[count])      \n",
    "            else:\n",
    "                cell_type_gene_marker_dict[cell_type].update(gene_list[count])\n",
    "    \n",
    "    return(cell_type_gene_marker_dict)\n"
   ]
  },
  {
   "cell_type": "markdown",
   "id": "nonprofit-seller",
   "metadata": {},
   "source": [
    "## Output of cell type/gene marker dictionary"
   ]
  },
  {
   "cell_type": "code",
   "execution_count": 10,
   "id": "acute-grain",
   "metadata": {},
   "outputs": [],
   "source": [
    "if \"All Gene Biomarkers\" in excel_dict:\n",
    "    final_dict = add_gene_marker(cell_type_list, excel_dict)\n",
    "else:\n",
    "    final_dict = add_gene_marker_no_all(cell_type_list, excel_dict)\n",
    "#pprint.pprint(final_dict)"
   ]
  },
  {
   "cell_type": "code",
   "execution_count": 18,
   "id": "critical-union",
   "metadata": {},
   "outputs": [
    {
     "name": "stdout",
     "output_type": "stream",
     "text": [
      "Keratinocyte (Corneocyte):Skin {'filaggrin', 'Involucrin'}\n",
      "Keratinocyte (Granular):Skin {'keratin 10', 'damage specific DNA binding protein 2', 'marker of proliferation Ki-67', 'tumor protein p53'}\n",
      "Langerhans cell:Skin {'class II major histocompatibility complex transactivator', 'CD207 molecule', 'CD1a molecule'}\n",
      "Keratinocytes (Spinous):Skin {'keratin 10', 'keratin 1'}\n",
      "Merkel cell:Skin {'synaptophysin', 'chromogranin A', 'Keratin 20', 'keratin 20'}\n",
      "Keratinocyte (Basal):Skin {'keratin 5', 'damage specific DNA binding protein 2', 'marker of proliferation Ki-67', 'keratin 14', 'tumor protein p53'}\n",
      "Melanocyte:Skin {'S100 calcium binding protein A2', 'SRY-box transcription factor 10', 'melan-A'}\n",
      "Keratinocyte (Onychocyte):Skin {'keratin 10', 'keratin 5', 'keratin 17'}\n",
      "keratinocyte stem cell:Skin {'CD34 molecule', 'CD200 molecule', 'keratin 15'}\n",
      "Germinative (epithelial) cell, Sebocyte:Skin {'perilipin 2', 'Epidermal membrane Antigen'}\n",
      "Eccrine cell, myoepithelial cell:Skin {'keratin 19', 'keratin 26', 'S100 calcium binding protein A2'}\n",
      "Apocrine cell, myoepithelial cell:Skin {'GCDFP-15', 'GATA3', 'Keratin AE1'}\n",
      "Myoepithelial cell:Skin {'S100 calcium binding protein A2', 'actin alpha 2, smooth muscle', 'calponin 1'}\n",
      "Fibroblast:Skin {'vimentin', 'CD34 molecule', 'Factor XIIIa'}\n",
      "Mast cell:Skin {'CD203c', 'C-C motif chemokine receptor 3', 'KIT proto-oncogene, receptor tyrosine kinase'}\n",
      "Dendritic cell (DC1):Skin {'integrin subunit alpha M/CD11b', 'integrin subunit alpha E/CD103'}\n",
      "Dendritic cell (DC2):Skin {'integrin subunit alpha M/CD11b', 'integrin subunit alpha E/CD103'}\n",
      "Dendritic cell (monocyte-derived):Skin {'integrin subunit alpha M/CD11b', 'integrin subunit alpha E/CD103'}\n",
      "Dendritic cell (migratory):Skin {'integrin subunit alpha M/CD11b', 'integrin subunit alpha E/CD103'}\n",
      "Macrophage:Skin {'CD68 molecule', 'CD163 molecule'}\n",
      "T helper:Skin {'CD3d molecule', 'CD4 molecule'}\n",
      "T killer:Skin {'CD3d molecule', 'CD8a molecule'}\n",
      "T reg:Skin {'CD3d molecule', 'forkhead box P3', 'CD4 molecule'}\n",
      "Natural killer cell:Skin {'CD3d molecule', 'Fc fragment of IgG receptor IIIa/CD16', 'neural cell adhesion molecule 1/CD56'}\n",
      "Natural killer cell / Innate lymphoid cell 1:Skin {'CD3d molecule', 'T-box transcription factor 21', 'neural cell adhesion molecule 1/CD56'}\n",
      "Innate lymphoid cell 2:Skin {'CD3d molecule', 'neural cell adhesion molecule 1/CD56', 'GATA binding protein 3'}\n",
      "Innate lymphoid cell 3:Skin {'CD3d molecule', 'neural cell adhesion molecule 1/CD56', 'RAR related orphan receptor C'}\n",
      "B cell:Skin {'CD79a molecule', 'membrane spanning 4-domains A1', 'CD19 molecule'}\n",
      "Plasma cell:Skin {'CD79a molecule', 'CD38 molecule', 'syndecan 1'}\n",
      "Neutrophil:Skin {'sialophorin/p43', 'myeloperoxidase'}\n",
      "Eosinophil:Skin {'CD9 molecule', 'myeloperoxidase'}\n",
      "Neuron:Skin {'CRCP', 'neurofilament heavy pseudogene 1', 'ubiquitin C-terminal hydrolase L1'}\n",
      "Schwann cell:Skin {'S100 calcium binding protein A2', 'nerve growth factor receptor'}\n",
      "perineurial cells:Skin {'CD34 molecule', 'Epidermal membrane Antigen'}\n",
      "Endothelial cell:Skin {'platelet and endothelial cell adhesion molecule 1', 'ETS transcription factor ERG'}\n",
      "Perivascular smooth muscle cell:Skin {'actin alpha 2, smooth muscle', 'calponin 1', 'caldesmon 1'}\n",
      "Glomus cell:Skin {'dopamine receptor D2', 'actin alpha 2, smooth muscle'}\n",
      "Pericyte:Skin {'platelet derived growth factor receptor beta', 'actin alpha 2, smooth muscle', 'melanoma cell adhesion molecule/CD146'}\n",
      "Lymphatic:Skin {'lymphatic vessel endothelial hyaluronan receptor 1', 'podoplanin'}\n",
      "Adipocyte:Skin {'S100 calcium binding protein B', 'calbindin 2/calretinin'}\n",
      "Perineural cell:Skin {'CD34 molecule', 'Epidermal membrane Antigen'}\n"
     ]
    }
   ],
   "source": [
    "output_filename = \"{}_GMT_{}.tsv\".format(file_name[:-4], version)\n",
    "fh = open(output_filename , \"w\")\n",
    "for key, value in final_dict.items():\n",
    "    key = key.strip('\\t') + ':' + as_name.title()\n",
    "    print(key, value)\n",
    "    if \"[\" in key or not value:\n",
    "        continue\n",
    "    elif value and type(value) == list:\n",
    "        fh.write(\"{}\\t{}\\n\".format(key.strip('\\t'), ';'.join(value)))\n",
    "    elif value:\n",
    "        fh.write(\"{}\\t{}\\n\".format(key, ';'.join(value)))\n",
    "    else:\n",
    "        fh.write(\"{}\\n\".format(key))"
   ]
  },
  {
   "cell_type": "markdown",
   "id": "proved-monte",
   "metadata": {},
   "source": [
    "### Generate url to download ASCT+B Table"
   ]
  },
  {
   "cell_type": "code",
   "execution_count": 12,
   "id": "amended-placement",
   "metadata": {},
   "outputs": [],
   "source": [
    "sheetID_dict = {\"Blood\": \"1ZYcSWnFHmzR9XKy_002f_oA4PfzokiW4IxkaZZOusvg\",\n",
    "                \"Blood_Vascular\": \"1IlELzPwpWoHUcDAmNBWofXfislAaF_oR8yVpwy-zl18\",\n",
    "                \"Bone_Marrow\": \"1tnqtCAWSA6atiUBUOOjAHdOrjDw_fsIoCd5RkAmw310\",\n",
    "                \"Brain\": \"1TiwW1NZJ5kdCzJ4zwCpY3Gzv3WE5WUoBDWIAkU5gXd0\",\n",
    "                \"Breast\": \"1Ac7C4dX7eYSMyR75AA2uVY9ZgNGOZZgbqgR8wmp-wdk\",\n",
    "                \"Eye\": \"1u7IbxnPABRpYL5rFxOba8cmlvG1yGp-dwD3TV3V26K4\",\n",
    "                \"Fallopian_Tube\": \"16tAvAmjwKwbq5SDz7UZ-T1N_KUHRGqPDbMqffFuInMI\",\n",
    "                \"Heart\": \"1UhEZpDxQLCJLLx0gnWYDMQP8M-dwjZo_vIyPfjBCcVM\",\n",
    "                \"Kidney\": \"1PgjYp4MEWANfbxGIxFsJ9vkfEU90MP-v3p5oVlH8U-E\",\n",
    "                \"Knee\": \"1QidDho8DxBYjsxaqApiIZA__Z7aWnB61KvC422g2kx8\",\n",
    "                \"Large_Intestine\": \"1vU6mQmnzAAxctbNYPoFxJ8NvbUql8pbipsGdt7YCOQQ\",\n",
    "                \"Liver\": \"1tPDKw_znxqWhZYPTeVN4AN2_F4-JecsdeUgp2lj4P8g\",\n",
    "                \"Lung\": \"1tK916JyG5ZSXW_cXfsyZnzXfjyoN-8B2GXLbYD6_vF0\",\n",
    "                \"Lymph_Node\": \"1aK9gJ2_kMb2B8zrQgScDgxpEWAcCs7kl-gnQGwV3LHM\",\n",
    "                \"Lymph_Vasculature\": \"1SILRNUI71BEVWl1fpsi_32DSuSA-bAPgXv5pTfKnrOE\",\n",
    "                \"Ovary\": \"1FE2XufrruExUWqcai3XRFqtMjeEdzoLKJ-YNa-nRZ1M\",\n",
    "                \"Pancreas\": \"1CIWqIygz2OzxMECIvhudFN14Kt7-JFUBLpzn5uuH5Xs\",\n",
    "                \"Peripheral_Nervous_System\": \"1KifiEDn3PpJ8pjz9_ka4TWkT085wLIzIQP5NKSvb2Ac\",\n",
    "                \"Placenta\": \"1TqatRIsZZ5QwvWdz6H4Un-sukbzSd21_x41Gqnn5UEY\",\n",
    "                \"Prostate\": \"1_O5yXOesG93dobMHRSIvVAt9xj7mDnEAYdRJcHYJ84U\",\n",
    "                \"Skin\": \"1Pmi3g26vhbg9HU6GDpIvxKbIP985JM-5eytOHxJUdZs\",\n",
    "                \"Small_Intestine\": \"1Xlds8FzZ8ecmy3cxYJt1ijQC9FifamZRZ5KzH4Yt-MQ\",\n",
    "                \"Spleen\": \"1HL7aHx5A2KOa1KsJ0PIagqxdshVavFIEJZP6_YDtUww\",\n",
    "                \"Spinal_Cord\": \"1tK916JyG5ZSXW_cXfsyZnzXfjyoN-8B2GXLbYD6_vF0\",\n",
    "                \"Thymus\": \"1nSiz2yFDMJSqIXbnAP_EXIQZfN6ZflOs-WBdZ6LVhUY\",\n",
    "                \"Ureter\": \"1tK916JyG5ZSXW_cXfsyZnzXfjyoN-8B2GXLbYD6_vF0\",\n",
    "                \"Urinary_Bladder\": \"1ohOG5jMf9d9eqjbVK6_u3CvgfG3wcLfs_pxB2838wOo\",\n",
    "                \"Uterus\": \"1yEcbJMrUIzJY-4JNtF1Y_eUpAQsgKF6DX2-5Z3UXBeE\"\n",
    "               }"
   ]
  },
  {
   "cell_type": "code",
   "execution_count": 13,
   "id": "nearby-wagner",
   "metadata": {},
   "outputs": [],
   "source": [
    "gidID_dict = {\"Blood\": \"360436225\",\n",
    "              \"Blood_Vascular\": \"997949803\",\n",
    "              \"Bone_Marrow\": \"771476671\",\n",
    "              \"Brain\": \"2056967441\",\n",
    "              \"Breast\": \"928286522\",\n",
    "              \"Eye\": \"44026578\",\n",
    "              \"Fallopian_Tube\": \"1739942440\",\n",
    "              \"Heart\": \"1759721736\",\n",
    "              \"Kidney\": \"949267305\",\n",
    "              \"Knee\": \"1824489301\",\n",
    "              \"Large_Intestine\": \"2043181688\",\n",
    "              \"Liver\": \"1460762432\",\n",
    "              \"Lung\": \"1824552484\",\n",
    "              \"Lymph_Node\": \"1223566381\",\n",
    "              \"Lymph_Vasculature\": \"1700987638\",\n",
    "              \"Ovary\": \"1997082517\",\n",
    "              \"Pancreas\": \"801179416\",\n",
    "              \"Peripheral_Nervous_System\": \"714133140\",\n",
    "              \"Placenta\": \"231591207\",\n",
    "              \"Prostate\": \"1757780481\",\n",
    "              \"Skin\": \"269383687\",\n",
    "              \"Small_Intestine\": \"1762589435\",\n",
    "              \"Spleen\": \"69626346\",\n",
    "              \"Spinal_Cord\": \"1106564583\",\n",
    "              \"Thymus\": \"863370556\",\n",
    "              \"Ureter\": \"1106564583\",\n",
    "              \"Urinary_Bladder\": \"1342577957\",\n",
    "              \"Uterus\": \"1434605386\"\n",
    "             }"
   ]
  },
  {
   "cell_type": "code",
   "execution_count": 14,
   "id": "incorrect-exemption",
   "metadata": {},
   "outputs": [],
   "source": [
    "version_dict = {\"Blood\": \"v1.1\",\n",
    "                \"Blood_Vascular\": \"v1.1\",\n",
    "                \"Bone_Marrow\": \"v1.1\",\n",
    "                \"Brain\": \"v1.1\",\n",
    "                \"Breast\": \"v1.0\",\n",
    "                \"Eye\": \"v1.0\",\n",
    "                \"Fallopian_Tube\": \"v1.0\",\n",
    "                \"Heart\": \"v1.1\",\n",
    "                \"Kidney\": \"v1.1\",\n",
    "                \"Knee\": \"v1.0\",\n",
    "                \"Large_Intestine\": \"v1.1\",\n",
    "                \"Liver\": \"v1.0\",\n",
    "                \"Lung\": \"v1.1\",\n",
    "                \"Lymph_Node\": \"v1.1\",\n",
    "                \"Lymph_Vasculature\": \"v1.0\",\n",
    "                \"Ovary\": \"v1.0\",\n",
    "                \"Pancreas\": \"v1.0\",\n",
    "                \"Peripheral_Nervous_System\": \"v1.0\",\n",
    "                \"Placenta\": \"v1.0\",\n",
    "                \"Prostate\": \"v1.0\",\n",
    "                \"Skin\": \"v1.1\",\n",
    "                \"Small_Intestine\": \"v1.0\",\n",
    "                \"Spleen\": \"v1.1\",\n",
    "                \"Spinal_Cord\": \"v1.0\",\n",
    "                \"Thymus\": \"v1.1\",\n",
    "                \"Ureter\": \"v1.0\",\n",
    "                \"Urinary_Bladder\": \"v1.0\",\n",
    "                \"Uterus\": \"v1.0\"\n",
    "               }"
   ]
  },
  {
   "cell_type": "markdown",
   "id": "median-result",
   "metadata": {},
   "source": [
    "### Write ASCT+B URL to text file"
   ]
  },
  {
   "cell_type": "code",
   "execution_count": 15,
   "id": "mounted-review",
   "metadata": {},
   "outputs": [],
   "source": [
    "organ_list = [organ for organ, id in sheetID_dict.items()]\n",
    "url_list = list()\n",
    "\n",
    "read_url = open(\"url.txt\", \"w\")\n",
    "for organ in organ_list:  \n",
    "    url = \"https://docs.google.com/spreadsheets/d/{}/edit#gid={}\".format(sheetID_dict[organ], gidID_dict[organ])\n",
    "    url_list.append(url)\n",
    "    read_url.write(\"Organ: {} - {}\\n\".format(organ, url))\n",
    "\n",
    "#pprint.pprint(url_list)"
   ]
  }
 ],
 "metadata": {
  "kernelspec": {
   "display_name": "Python 3",
   "language": "python",
   "name": "python3"
  },
  "language_info": {
   "codemirror_mode": {
    "name": "ipython",
    "version": 3
   },
   "file_extension": ".py",
   "mimetype": "text/x-python",
   "name": "python",
   "nbconvert_exporter": "python",
   "pygments_lexer": "ipython3",
   "version": "3.9.1"
  }
 },
 "nbformat": 4,
 "nbformat_minor": 5
}
